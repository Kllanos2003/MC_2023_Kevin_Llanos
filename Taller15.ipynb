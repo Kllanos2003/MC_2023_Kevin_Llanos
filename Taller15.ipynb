{
  "nbformat": 4,
  "nbformat_minor": 0,
  "metadata": {
    "colab": {
      "provenance": []
    },
    "kernelspec": {
      "name": "python3",
      "display_name": "Python 3"
    },
    "language_info": {
      "name": "python"
    }
  },
  "cells": [
    {
      "cell_type": "code",
      "execution_count": 1,
      "metadata": {
        "colab": {
          "base_uri": "https://localhost:8080/"
        },
        "id": "c7rv3lXuzzKj",
        "outputId": "83cca89c-3a58-4be0-fabc-ccd42b700ea8"
      },
      "outputs": [
        {
          "output_type": "stream",
          "name": "stdout",
          "text": [
            "[[1.0000000000000002, -2.0000000000000004, 4.000000000000001], [-1.5000000000000004, 4.000000000000001, -7.500000000000002], [0.5000000000000001, -1.0000000000000002, 1.5000000000000004]]\n",
            "\n",
            "[[0.3333333333333333, 0.6666666666666666, -0.6666666666666666, 0.0], [-0.06666666666666665, -0.1333333333333333, 0.3333333333333333, 0.2], [0.2666666666666666, 0.5333333333333333, -1.3333333333333333, 0.2], [0.2, -0.1, -0.0, -0.1]]\n"
          ]
        }
      ],
      "source": [
        "def invert_matrix(AM, IM):\n",
        "    for fd in range(len(AM)):\n",
        "        fdScaler = 1.0 / AM[fd][fd]\n",
        "        for j in range(len(AM)):\n",
        "            AM[fd][j] *= fdScaler\n",
        "            IM[fd][j] *= fdScaler\n",
        "        for i in list(range(len(AM)))[0:fd] + list(range(len(AM)))[fd+1:]:\n",
        "            crScaler = AM[i][fd]\n",
        "            for j in range(len(AM)):\n",
        "                AM[i][j] = AM[i][j] - crScaler * AM[fd][j]\n",
        "                IM[i][j] = IM[i][j] - crScaler * IM[fd][j]\n",
        "    return IM\n",
        "\n",
        "\n",
        "AM = [[3,2,2],[3,1,-3],[1,0,-2]]\n",
        "IM = [[1,0,0],[0,1,0],[0,0,1]]\n",
        "print(invert_matrix(AM, IM))\n",
        "print(\"\")\n",
        "AM = [[1,2,0,4],[2,0,-1,-2],[1,1,-1,0],[0,4,1,0]]\n",
        "IM = [[1,0,0,0],[0,1,0,0],[0,0,1,0],[0,0,0,1]]\n",
        "print(invert_matrix(AM, IM))"
      ]
    }
  ]
}