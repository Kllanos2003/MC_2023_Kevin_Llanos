{
  "nbformat": 4,
  "nbformat_minor": 0,
  "metadata": {
    "colab": {
      "provenance": []
    },
    "kernelspec": {
      "name": "python3",
      "display_name": "Python 3"
    },
    "language_info": {
      "name": "python"
    }
  },
  "cells": [
    {
      "cell_type": "code",
      "execution_count": 13,
      "metadata": {
        "colab": {
          "base_uri": "https://localhost:8080/"
        },
        "id": "2_HTYGOcLKSd",
        "outputId": "36653803-f6f0-4135-90c4-b3954193dcb3"
      },
      "outputs": [
        {
          "output_type": "stream",
          "name": "stdout",
          "text": [
            "Orden 1\n",
            "Error 100.0\n",
            "Valor 0.6376281516217733\n",
            "\n",
            "Orden 2\n",
            "Error 0.502512562814078\n",
            "Valor 0.6344400108636644\n",
            "\n",
            "Orden 3\n",
            "Error 0.0012562656248016277\n",
            "Valor 0.6344479812155597\n",
            "\n",
            "Orden 4\n",
            "Error 2.0937760895206235e-06\n",
            "Valor 0.6344479679316398\n",
            "\n",
            "Orden 5\n",
            "Error 2.617226389612811e-09\n",
            "Valor 0.6344479679482448\n",
            "\n",
            "Orden 6\n",
            "Error 2.624855970968495e-12\n",
            "Valor 0.6344479679482281\n",
            "\n",
            "Orden 7\n",
            "Error 0.0\n",
            "Valor 0.6344479679482281\n",
            "\n",
            "Orden 8\n",
            "Error 0.0\n",
            "Valor 0.6344479679482281\n",
            "\n",
            "Orden 9\n",
            "Error 0.0\n",
            "Valor 0.6344479679482281\n",
            "\n",
            "Orden 10\n",
            "Error 0.0\n",
            "Valor 0.6344479679482281\n",
            "\n",
            "Orden 11\n",
            "Error 0.0\n",
            "Valor 0.6344479679482281\n",
            "\n",
            "Orden 12\n",
            "Error 0.0\n",
            "Valor 0.6344479679482281\n",
            "\n",
            "Orden 13\n",
            "Error 0.0\n",
            "Valor 0.6344479679482281\n",
            "\n",
            "Orden 14\n",
            "Error 0.0\n",
            "Valor 0.6344479679482281\n",
            "\n",
            "Orden 15\n",
            "Error 0.0\n",
            "Valor 0.6344479679482281\n",
            "\n",
            "Orden 16\n",
            "Error 0.0\n",
            "Valor 0.6344479679482281\n",
            "\n"
          ]
        }
      ],
      "source": [
        "import math\n",
        "\n",
        "\n",
        "a=0.45\n",
        "x=0.455\n",
        "h=x-a\n",
        "fx=0\n",
        "fxa=0\n",
        "e=math.e\n",
        "i=0\n",
        "while i<= 15:\n",
        "  fxa=fx\n",
        "  if i%2== 0:\n",
        "    fa=e**(-a)\n",
        "  else:\n",
        "    fa=-e**(-a)\n",
        "  \n",
        "  fx=fx+(fa/math.factorial(i))*h**i\n",
        "\n",
        "  i=i+1\n",
        "  ea=abs((fx-fxa)/fx)*100\n",
        "  print('Orden', i)\n",
        "  print('Error', ea)\n",
        "  print('Valor', fx)\n",
        "  print('')"
      ]
    }
  ]
}