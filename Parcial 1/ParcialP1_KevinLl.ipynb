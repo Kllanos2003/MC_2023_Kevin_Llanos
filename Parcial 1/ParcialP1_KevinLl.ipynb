{
  "nbformat": 4,
  "nbformat_minor": 0,
  "metadata": {
    "colab": {
      "provenance": []
    },
    "kernelspec": {
      "name": "python3",
      "display_name": "Python 3"
    },
    "language_info": {
      "name": "python"
    }
  },
  "cells": [
    {
      "cell_type": "code",
      "execution_count": 17,
      "metadata": {
        "colab": {
          "base_uri": "https://localhost:8080/"
        },
        "id": "jNw3zyBj06Do",
        "outputId": "774a9057-6cee-4dd6-92cc-fef133a780cc"
      },
      "outputs": [
        {
          "output_type": "stream",
          "name": "stdout",
          "text": [
            "{7, 8, 9, 10, 11, 12, 13, 14, 15, 16, 17, 18, 19, 20, 21, 22, 23, 24, 25, 26, 27, 28, 29, 30}\n",
            "{33, 2, 5, 22, 7, 9, 15}\n",
            "{4, 7, 10, 13, 16, 19, 22, 25, 28}\n"
          ]
        }
      ],
      "source": [
        "i=0\n",
        "a=set()\n",
        "c= set()\n",
        "b={2,5,7,9,15,22,33}\n",
        "\n",
        "\n",
        "for i in range (6,30):\n",
        "  nuevo_A = i+1\n",
        "  a.add(nuevo_A)\n",
        "print(a)\n",
        "for i in range (2,30):\n",
        "  if i%3 == 1:\n",
        "    c.add(i)\n",
        "print(b)\n",
        "print(c)"
      ]
    },
    {
      "cell_type": "code",
      "source": [
        "def union (a,b):\n",
        "  return a|b\n",
        "def intersecion (a,b):\n",
        "  return a&b\n",
        "def diferencia (a,b):\n",
        "  return a-b\n",
        "def dif_sime (a,b):\n",
        "  return a^b\n",
        "\n",
        "op1=intersecion(a,c)\n",
        "op2=dif_sime(a,b)\n",
        "op3=union(op1,op2)\n",
        "print(op3)\n",
        "op4=union(a,b)\n",
        "op5=dif_sime(op4,b)\n",
        "op6=diferencia(a,c)\n",
        "op7=intersecion(op5,op6)\n",
        "print(op7)\n",
        "op8=union(a,b)\n",
        "op9=intersecion(a,c)\n",
        "op10=diferencia(op8,op9)\n",
        "op11=union(op8,c)\n",
        "op12=intersecion(op11,op10)\n",
        "print(op12)"
      ],
      "metadata": {
        "colab": {
          "base_uri": "https://localhost:8080/"
        },
        "id": "nSB3HjyW5M3l",
        "outputId": "99c900a1-862c-4cb0-fa86-7f2ac3d71d4b"
      },
      "execution_count": 18,
      "outputs": [
        {
          "output_type": "stream",
          "name": "stdout",
          "text": [
            "{2, 5, 7, 8, 10, 11, 12, 13, 14, 16, 17, 18, 19, 20, 21, 22, 23, 24, 25, 26, 27, 28, 29, 30, 33}\n",
            "{8, 11, 12, 14, 17, 18, 20, 21, 23, 24, 26, 27, 29, 30}\n",
            "{2, 5, 8, 9, 11, 12, 14, 15, 17, 18, 20, 21, 23, 24, 26, 27, 29, 30, 33}\n"
          ]
        }
      ]
    }
  ]
}