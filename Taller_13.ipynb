{
  "nbformat": 4,
  "nbformat_minor": 0,
  "metadata": {
    "colab": {
      "provenance": []
    },
    "kernelspec": {
      "name": "python3",
      "display_name": "Python 3"
    },
    "language_info": {
      "name": "python"
    }
  },
  "cells": [
    {
      "cell_type": "code",
      "execution_count": null,
      "metadata": {
        "colab": {
          "base_uri": "https://localhost:8080/"
        },
        "id": "8yEGufRdcBMP",
        "outputId": "d95241d6-66c3-4110-9bef-b1951286cf9e"
      },
      "outputs": [
        {
          "output_type": "stream",
          "name": "stdout",
          "text": [
            "Ingrese la longitud del vector: 3\n",
            "Ingrese el valor a añadir en el primer vector 5\n",
            "Ingrese el valor a añador ene el segundo vector 4\n",
            "Ingrese el valor a añadir en el primer vector 6\n",
            "Ingrese el valor a añador ene el segundo vector 7\n",
            "Ingrese el valor a añadir en el primer vector 8\n",
            "Ingrese el valor a añador ene el segundo vector 9\n",
            "[5, 6, 8]\n",
            "[4, 7, 9]\n",
            "134\n"
          ]
        }
      ],
      "source": [
        "n=int(input(\"Ingrese la longitud del vector: \"))\n",
        "i=0\n",
        "a=[]\n",
        "b=[]\n",
        "#r=[]\n",
        "while i<n:\n",
        "  x=int(input(\"Ingrese el valor a añadir en el primer vector \"))\n",
        "  y=int(input(\"Ingrese el valor a añador ene el segundo vector \"))\n",
        "  b.append(y)\n",
        "  a.append(x)\n",
        "  i=i+1\n",
        "print(a)\n",
        "print(b)\n",
        "\n",
        "#producto escalar\n",
        "r=0\n",
        "for i in range(n):\n",
        "  r += a[i] * b[i]\n",
        "print(r)"
      ]
    },
    {
      "cell_type": "code",
      "source": [
        "import numpy as np\n",
        "\n",
        "\n",
        "filas_A = int(input(\"Ingrese el número de filas de la matriz A: \"))\n",
        "columnas_A = int(input(\"Ingrese el número de columnas de la matriz A: \"))\n",
        "filas_B = int(input(\"Ingrese el número de filas de la matriz B: \"))\n",
        "columnas_B = int(input(\"Ingrese el número de columnas de la matriz B: \"))\n",
        "\n",
        "\n",
        "if columnas_A != filas_B:\n",
        "    print(\"No se pueden multiplicar las matrices A y B\")\n",
        "    exit()\n",
        "\n",
        "\n",
        "print(\"Ingrese los elementos de la matriz A:\")\n",
        "A = np.zeros((filas_A, columnas_A))\n",
        "for i in range(filas_A):\n",
        "    for j in range(columnas_A):\n",
        "        A[i][j] = int(input(\"Elemento ({},{}) de A: \".format(i+1, j+1)))\n",
        "\n",
        "print(\"Ingrese los elementos de la matriz B:\")\n",
        "B = np.zeros((filas_B, columnas_B))\n",
        "for i in range(filas_B):\n",
        "    for j in range(columnas_B):\n",
        "        B[i][j] = int(input(\"Elemento ({},{}) de B: \".format(i+1, j+1)))\n",
        "\n",
        "\n",
        "C = 3*A\n",
        "D = 4*B\n",
        "\n",
        "try:\n",
        "    E = A + B\n",
        "except:\n",
        "    E=[\"No se puede relizar\"]\n",
        "\n",
        "\n",
        "try:\n",
        "    F = np.dot(B, A)\n",
        "except:\n",
        "    F=[\"No se puede relizar\"]\n",
        "\n",
        "\n",
        "print(\"3A:\")\n",
        "print(C)\n",
        "print(\"4B:\")\n",
        "print(D)\n",
        "print(\"A + B:\")\n",
        "print(E)\n",
        "print(\"B x A:\")\n",
        "print(F)"
      ],
      "metadata": {
        "id": "W6Z8Djo7iZYJ",
        "colab": {
          "base_uri": "https://localhost:8080/"
        },
        "outputId": "b657a0ae-9bd5-46e4-831f-891546909f3a"
      },
      "execution_count": 12,
      "outputs": [
        {
          "output_type": "stream",
          "name": "stdout",
          "text": [
            "Ingrese el número de filas de la matriz A: 3\n",
            "Ingrese el número de columnas de la matriz A: 4\n",
            "Ingrese el número de filas de la matriz B: 2\n",
            "Ingrese el número de columnas de la matriz B: 3\n",
            "No se pueden multiplicar las matrices A y B\n",
            "Ingrese los elementos de la matriz A:\n",
            "Elemento (1,1) de A: 4\n",
            "Elemento (1,2) de A: 5\n",
            "Elemento (1,3) de A: 6\n",
            "Elemento (1,4) de A: 8\n",
            "Elemento (2,1) de A: 7\n",
            "Elemento (2,2) de A: 9\n",
            "Elemento (2,3) de A: 4\n",
            "Elemento (2,4) de A: 1\n",
            "Elemento (3,1) de A: 2\n",
            "Elemento (3,2) de A: 5\n",
            "Elemento (3,3) de A: 7\n",
            "Elemento (3,4) de A: 9\n",
            "Ingrese los elementos de la matriz B:\n",
            "Elemento (1,1) de B: 3\n",
            "Elemento (1,2) de B: 1\n",
            "Elemento (1,3) de B: 5\n",
            "Elemento (2,1) de B: 8\n",
            "Elemento (2,2) de B: 9\n",
            "Elemento (2,3) de B: 7\n",
            "3A:\n",
            "[[12. 15. 18. 24.]\n",
            " [21. 27. 12.  3.]\n",
            " [ 6. 15. 21. 27.]]\n",
            "4B:\n",
            "[[12.  4. 20.]\n",
            " [32. 36. 28.]]\n",
            "A + B:\n",
            "['No se puede relizar']\n",
            "B x A:\n",
            "[[ 29.  49.  57.  70.]\n",
            " [109. 156. 133. 136.]]\n"
          ]
        }
      ]
    }
  ]
}