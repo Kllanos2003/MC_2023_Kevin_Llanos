{
  "nbformat": 4,
  "nbformat_minor": 0,
  "metadata": {
    "colab": {
      "provenance": []
    },
    "kernelspec": {
      "name": "python3",
      "display_name": "Python 3"
    },
    "language_info": {
      "name": "python"
    }
  },
  "cells": [
    {
      "cell_type": "code",
      "source": [
        "import math"
      ],
      "metadata": {
        "id": "M8HsUw27FGc4"
      },
      "execution_count": 7,
      "outputs": []
    },
    {
      "cell_type": "code",
      "source": [
        "errors=0.5*10**-8*100\n",
        "\n",
        "grados=float(input(\"Ingrese el angulo: \"))\n",
        "rad=grados*math.pi/180\n",
        "ea=100\n",
        "x=0\n",
        "r2=1\n",
        "r=1\n",
        "i=1\n",
        "while ea>=errors:\n",
        "    x=x+2\n",
        "    r=r2\n",
        "    if i%2==0:\n",
        "        r2=r+(((rad)**x)/(math.factorial(x)))   \n",
        "    else:\n",
        "        r2=r-(((rad)**x)/(math.factorial(x)))\n",
        "    i+=1\n",
        "    ea=math.fabs(((r2-r)/r2)*100)\n",
        "print(\"------------\")\n",
        "print(\"El coseno equivale a: \", r2)\n",
        "print(\"El error aproximado es: \",ea,\"%\")\n",
        "print(\"Se realizo en \" ,i, \"Intentos\")\n",
        "    "
      ],
      "metadata": {
        "colab": {
          "base_uri": "https://localhost:8080/"
        },
        "id": "GclXtP_FTj2Z",
        "outputId": "a48ad553-dd3d-4f11-e94e-7532c8c14cf2"
      },
      "execution_count": 17,
      "outputs": [
        {
          "output_type": "stream",
          "name": "stdout",
          "text": [
            "Ingrese el angulo: 30\n",
            "------------\n",
            "El coseno equivale a:  0.8660254037835535\n",
            "El error aproximado es:  4.928248255126538e-08 %\n",
            "Se realizo en  6 Intentos\n"
          ]
        }
      ]
    }
  ]
}