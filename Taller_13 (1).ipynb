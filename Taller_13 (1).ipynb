{
  "nbformat": 4,
  "nbformat_minor": 0,
  "metadata": {
    "colab": {
      "provenance": []
    },
    "kernelspec": {
      "name": "python3",
      "display_name": "Python 3"
    },
    "language_info": {
      "name": "python"
    }
  },
  "cells": [
    {
      "cell_type": "code",
      "execution_count": 10,
      "metadata": {
        "colab": {
          "base_uri": "https://localhost:8080/"
        },
        "id": "8yEGufRdcBMP",
        "outputId": "d95241d6-66c3-4110-9bef-b1951286cf9e"
      },
      "outputs": [
        {
          "output_type": "stream",
          "name": "stdout",
          "text": [
            "Ingrese la longitud del vector: 3\n",
            "Ingrese el valor a añadir en el primer vector 5\n",
            "Ingrese el valor a añador ene el segundo vector 4\n",
            "Ingrese el valor a añadir en el primer vector 6\n",
            "Ingrese el valor a añador ene el segundo vector 7\n",
            "Ingrese el valor a añadir en el primer vector 8\n",
            "Ingrese el valor a añador ene el segundo vector 9\n",
            "[5, 6, 8]\n",
            "[4, 7, 9]\n",
            "134\n"
          ]
        }
      ],
      "source": [
        "n=int(input(\"Ingrese la longitud del vector: \"))\n",
        "i=0\n",
        "a=[]\n",
        "b=[]\n",
        "#r=[]\n",
        "while i<n:\n",
        "  x=int(input(\"Ingrese el valor a añadir en el primer vector \"))\n",
        "  y=int(input(\"Ingrese el valor a añador ene el segundo vector \"))\n",
        "  b.append(y)\n",
        "  a.append(x)\n",
        "  i=i+1\n",
        "print(a)\n",
        "print(b)\n",
        "\n",
        "#producto escalar\n",
        "r=0\n",
        "for i in range(n):\n",
        "  r += a[i] * b[i]\n",
        "print(r)"
      ]
    },
    {
      "cell_type": "code",
      "source": [
        "import numpy as np\n",
        "\n",
        "\n",
        "filas_A = int(input(\"Ingrese el número de filas de la matriz A: \"))\n",
        "columnas_A = int(input(\"Ingrese el número de columnas de la matriz A: \"))\n",
        "filas_B = int(input(\"Ingrese el número de filas de la matriz B: \"))\n",
        "columnas_B = int(input(\"Ingrese el número de columnas de la matriz B: \"))\n",
        "\n",
        "\n",
        "if columnas_A != filas_B:\n",
        "    print(\"No se pueden multiplicar las matrices A y B\")\n",
        "    exit()\n",
        "\n",
        "\n",
        "print(\"Ingrese los elementos de la matriz A:\")\n",
        "A = np.zeros((filas_A, columnas_A))\n",
        "for i in range(filas_A):\n",
        "    for j in range(columnas_A):\n",
        "        A[i][j] = int(input(\"Elemento ({},{}) de A: \".format(i+1, j+1)))\n",
        "\n",
        "print(\"Ingrese los elementos de la matriz B:\")\n",
        "B = np.zeros((filas_B, columnas_B))\n",
        "for i in range(filas_B):\n",
        "    for j in range(columnas_B):\n",
        "        B[i][j] = int(input(\"Elemento ({},{}) de B: \".format(i+1, j+1)))\n",
        "\n",
        "\n",
        "C = 3*A\n",
        "D = 4*B\n",
        "\n",
        "try:\n",
        "    E = A + B\n",
        "except:\n",
        "    E=[\"No se puede relizar\"]\n",
        "\n",
        "\n",
        "try:\n",
        "    F = np.dot(B, A)\n",
        "except:\n",
        "    F=[\"No se puede relizar\"]\n",
        "\n",
        "\n",
        "print(\"3A:\")\n",
        "print(C)\n",
        "print(\"4B:\")\n",
        "print(D)\n",
        "print(\"A + B:\")\n",
        "print(E)\n",
        "print(\"B x A:\")\n",
        "print(F)"
      ],
      "metadata": {
        "colab": {
          "base_uri": "https://localhost:8080/",
          "height": 380
        },
        "id": "W6Z8Djo7iZYJ",
        "outputId": "18e3307d-c95d-4418-e3dc-8397f9695f53"
      },
      "execution_count": 11,
      "outputs": [
        {
          "output_type": "error",
          "ename": "KeyboardInterrupt",
          "evalue": "ignored",
          "traceback": [
            "\u001b[0;31m---------------------------------------------------------------------------\u001b[0m",
            "\u001b[0;31mKeyboardInterrupt\u001b[0m                         Traceback (most recent call last)",
            "\u001b[0;32m<ipython-input-11-d4c92ebe83f3>\u001b[0m in \u001b[0;36m<module>\u001b[0;34m\u001b[0m\n\u001b[1;32m      2\u001b[0m \u001b[0;34m\u001b[0m\u001b[0m\n\u001b[1;32m      3\u001b[0m \u001b[0;34m\u001b[0m\u001b[0m\n\u001b[0;32m----> 4\u001b[0;31m \u001b[0mfilas_A\u001b[0m \u001b[0;34m=\u001b[0m \u001b[0mint\u001b[0m\u001b[0;34m(\u001b[0m\u001b[0minput\u001b[0m\u001b[0;34m(\u001b[0m\u001b[0;34m\"Ingrese el número de filas de la matriz A: \"\u001b[0m\u001b[0;34m)\u001b[0m\u001b[0;34m)\u001b[0m\u001b[0;34m\u001b[0m\u001b[0;34m\u001b[0m\u001b[0m\n\u001b[0m\u001b[1;32m      5\u001b[0m \u001b[0mcolumnas_A\u001b[0m \u001b[0;34m=\u001b[0m \u001b[0mint\u001b[0m\u001b[0;34m(\u001b[0m\u001b[0minput\u001b[0m\u001b[0;34m(\u001b[0m\u001b[0;34m\"Ingrese el número de columnas de la matriz A: \"\u001b[0m\u001b[0;34m)\u001b[0m\u001b[0;34m)\u001b[0m\u001b[0;34m\u001b[0m\u001b[0;34m\u001b[0m\u001b[0m\n\u001b[1;32m      6\u001b[0m \u001b[0mfilas_B\u001b[0m \u001b[0;34m=\u001b[0m \u001b[0mint\u001b[0m\u001b[0;34m(\u001b[0m\u001b[0minput\u001b[0m\u001b[0;34m(\u001b[0m\u001b[0;34m\"Ingrese el número de filas de la matriz B: \"\u001b[0m\u001b[0;34m)\u001b[0m\u001b[0;34m)\u001b[0m\u001b[0;34m\u001b[0m\u001b[0;34m\u001b[0m\u001b[0m\n",
            "\u001b[0;32m/usr/local/lib/python3.9/dist-packages/ipykernel/kernelbase.py\u001b[0m in \u001b[0;36mraw_input\u001b[0;34m(self, prompt)\u001b[0m\n\u001b[1;32m    858\u001b[0m                 \u001b[0;34m\"raw_input was called, but this frontend does not support input requests.\"\u001b[0m\u001b[0;34m\u001b[0m\u001b[0;34m\u001b[0m\u001b[0m\n\u001b[1;32m    859\u001b[0m             )\n\u001b[0;32m--> 860\u001b[0;31m         return self._input_request(str(prompt),\n\u001b[0m\u001b[1;32m    861\u001b[0m             \u001b[0mself\u001b[0m\u001b[0;34m.\u001b[0m\u001b[0m_parent_ident\u001b[0m\u001b[0;34m,\u001b[0m\u001b[0;34m\u001b[0m\u001b[0;34m\u001b[0m\u001b[0m\n\u001b[1;32m    862\u001b[0m             \u001b[0mself\u001b[0m\u001b[0;34m.\u001b[0m\u001b[0m_parent_header\u001b[0m\u001b[0;34m,\u001b[0m\u001b[0;34m\u001b[0m\u001b[0;34m\u001b[0m\u001b[0m\n",
            "\u001b[0;32m/usr/local/lib/python3.9/dist-packages/ipykernel/kernelbase.py\u001b[0m in \u001b[0;36m_input_request\u001b[0;34m(self, prompt, ident, parent, password)\u001b[0m\n\u001b[1;32m    902\u001b[0m             \u001b[0;32mexcept\u001b[0m \u001b[0mKeyboardInterrupt\u001b[0m\u001b[0;34m:\u001b[0m\u001b[0;34m\u001b[0m\u001b[0;34m\u001b[0m\u001b[0m\n\u001b[1;32m    903\u001b[0m                 \u001b[0;31m# re-raise KeyboardInterrupt, to truncate traceback\u001b[0m\u001b[0;34m\u001b[0m\u001b[0;34m\u001b[0m\u001b[0m\n\u001b[0;32m--> 904\u001b[0;31m                 \u001b[0;32mraise\u001b[0m \u001b[0mKeyboardInterrupt\u001b[0m\u001b[0;34m(\u001b[0m\u001b[0;34m\"Interrupted by user\"\u001b[0m\u001b[0;34m)\u001b[0m \u001b[0;32mfrom\u001b[0m \u001b[0;32mNone\u001b[0m\u001b[0;34m\u001b[0m\u001b[0;34m\u001b[0m\u001b[0m\n\u001b[0m\u001b[1;32m    905\u001b[0m             \u001b[0;32mexcept\u001b[0m \u001b[0mException\u001b[0m \u001b[0;32mas\u001b[0m \u001b[0me\u001b[0m\u001b[0;34m:\u001b[0m\u001b[0;34m\u001b[0m\u001b[0;34m\u001b[0m\u001b[0m\n\u001b[1;32m    906\u001b[0m                 \u001b[0mself\u001b[0m\u001b[0;34m.\u001b[0m\u001b[0mlog\u001b[0m\u001b[0;34m.\u001b[0m\u001b[0mwarning\u001b[0m\u001b[0;34m(\u001b[0m\u001b[0;34m\"Invalid Message:\"\u001b[0m\u001b[0;34m,\u001b[0m \u001b[0mexc_info\u001b[0m\u001b[0;34m=\u001b[0m\u001b[0;32mTrue\u001b[0m\u001b[0;34m)\u001b[0m\u001b[0;34m\u001b[0m\u001b[0;34m\u001b[0m\u001b[0m\n",
            "\u001b[0;31mKeyboardInterrupt\u001b[0m: Interrupted by user"
          ]
        }
      ]
    }
  ]
}